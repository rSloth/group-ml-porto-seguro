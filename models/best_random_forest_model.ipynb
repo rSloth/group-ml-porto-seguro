{
 "cells": [
  {
   "cell_type": "code",
   "execution_count": 5,
   "id": "0654d23d",
   "metadata": {},
   "outputs": [],
   "source": [
    "# Random Forest with modified parameters and without SMOTE\n",
    "from sklearn.ensemble import RandomForestClassifier\n",
    "from sklearn.metrics import classification_report, confusion_matrix, roc_auc_score\n",
    "from sklearn.model_selection import train_test_split\n",
    "import pandas as pd\n",
    "import numpy as np\n",
    "\n",
    "# Load dataset\n",
    "train = pd.read_csv(\"../data/train.csv\")\n",
    "\n",
    "# Separation features e target\n",
    "X = train.drop(columns=[\"id\", \"target\"])\n",
    "y = train[\"target\"]\n",
    "\n",
    "X_train, X_test, y_train, y_test = train_test_split(X, y, test_size=0.2, random_state=42, stratify=y)"
   ]
  },
  {
   "cell_type": "code",
   "execution_count": 8,
   "id": "d21370f8",
   "metadata": {},
   "outputs": [
    {
     "name": "stdout",
     "output_type": "stream",
     "text": [
      "📊 Confusion Matrix:\n",
      "[[83779 30925]\n",
      " [ 2471  1868]]\n",
      "\n",
      "📄 Classification Report:\n",
      "              precision    recall  f1-score   support\n",
      "\n",
      "           0       0.97      0.73      0.83    114704\n",
      "           1       0.06      0.43      0.10      4339\n",
      "\n",
      "    accuracy                           0.72    119043\n",
      "   macro avg       0.51      0.58      0.47    119043\n",
      "weighted avg       0.94      0.72      0.81    119043\n",
      "\n",
      "\n",
      "🎯 ROC-AUC Score: 0.6230476919443724\n"
     ]
    }
   ],
   "source": [
    "# Initialising model with modified parameters\n",
    "rf_model = RandomForestClassifier(\n",
    "    n_estimators=100,\n",
    "    max_depth=10,\n",
    "    min_samples_leaf=10,\n",
    "    class_weight='balanced',\n",
    "    random_state=42,\n",
    "    n_jobs=-1\n",
    ")\n",
    "\n",
    "# Training\n",
    "rf_model.fit(X_train, y_train)\n",
    "\n",
    "# Predictions\n",
    "y_pred = rf_model.predict(X_test)\n",
    "\n",
    "# Assessment\n",
    "print(\"📊 Confusion Matrix:\")\n",
    "print(confusion_matrix(y_test, y_pred))\n",
    "\n",
    "print(\"\\n📄 Classification Report:\")\n",
    "print(classification_report(y_test, y_pred))\n",
    "\n",
    "print(\"\\n🎯 ROC-AUC Score:\", roc_auc_score(y_test, rf_model.predict_proba(X_test)[:,1]))\n"
   ]
  }
 ],
 "metadata": {
  "kernelspec": {
   "display_name": ".venv",
   "language": "python",
   "name": "python3"
  },
  "language_info": {
   "codemirror_mode": {
    "name": "ipython",
    "version": 3
   },
   "file_extension": ".py",
   "mimetype": "text/x-python",
   "name": "python",
   "nbconvert_exporter": "python",
   "pygments_lexer": "ipython3",
   "version": "3.11.3"
  }
 },
 "nbformat": 4,
 "nbformat_minor": 5
}
